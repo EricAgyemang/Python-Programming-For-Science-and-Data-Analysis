{
 "cells": [
  {
   "cell_type": "markdown",
   "id": "e7680481",
   "metadata": {},
   "source": [
    "# Assignment 1"
   ]
  },
  {
   "cell_type": "markdown",
   "id": "63867981",
   "metadata": {},
   "source": [
    "### Due Sept. 2nd  at 11:55pm"
   ]
  },
  {
   "cell_type": "markdown",
   "id": "61cd9752",
   "metadata": {},
   "source": [
   ]
  },
  {
   "cell_type": "markdown",
   "id": "f58171d9",
   "metadata": {},
   "source": [
    "#### Problem1: Area of a triangle"
   ]
  },
  {
   "cell_type": "code",
   "execution_count": 32,
   "id": "60775b1e",
   "metadata": {},
   "outputs": [
    {
     "name": "stdout",
     "output_type": "stream",
     "text": [
      "The area of the triangle is 12.5\n"
     ]
    }
   ],
   "source": [
    "#The area of the triangle is 12.50. Using String Formatting Expressions.\n",
    "base = height = 5.0\n",
    "\n",
    "area_triangle = (base*height)/2.0\n",
    "output_string = str(area_triangle)\n",
    "print ('The area of the triangle is '+output_string)"
   ]
  },
  {
   "cell_type": "markdown",
   "id": "27f5c859",
   "metadata": {},
   "source": [
    "#### Problem 2: Area of a Circle"
   ]
  },
  {
   "cell_type": "code",
   "execution_count": 36,
   "id": "57abd5fe",
   "metadata": {},
   "outputs": [
    {
     "name": "stdout",
     "output_type": "stream",
     "text": [
      "The area of a circle with a radius of 10 is 314.1592653589793\n"
     ]
    }
   ],
   "source": [
    "#The area of a circle with a radius of 10 is 314.16. Using String Formatting Method. If radius changes, area also changes.\n",
    "import math\n",
    "PI = math.pi\n",
    "radius = 10\n",
    "\n",
    "area_circle = PI*radius**2\n",
    "output_string = str(area_circle)\n",
    "radius_str=str(radius)\n",
    "print ('The area of a circle with a radius of '+radius_str+' is '+output_string)"
   ]
  },
  {
   "cell_type": "markdown",
   "id": "5d2b6aa4",
   "metadata": {},
   "source": [
    "#### Problem 3: Interger and memory"
   ]
  },
  {
   "cell_type": "code",
   "execution_count": 59,
   "id": "abb8e413",
   "metadata": {},
   "outputs": [
    {
     "name": "stdout",
     "output_type": "stream",
     "text": [
      "Memory: 24 bits or 3.0 bytes\n"
     ]
    }
   ],
   "source": [
    "#Interger:12345678; Memory: 24 bits or 3 bytes.\n",
    "#Check the memory usage for the target integer.\n",
    "\n",
    "target = 12345678\n",
    "target_bit=bin(target)\n",
    "memory_in_bits = len(target_bit)-2\n",
    "memory_in_bytes = (memory_in_bits)/8\n",
    "\n",
    "print('Memory:',memory_in_bits,'bits or',memory_in_bytes,'bytes')\n"
   ]
  },
  {
   "cell_type": "markdown",
   "id": "9fe5609b",
   "metadata": {},
   "source": [
    "#### Problem 4: Countries with String"
   ]
  },
  {
   "cell_type": "code",
   "execution_count": 25,
   "id": "dab80270",
   "metadata": {},
   "outputs": [
    {
     "name": "stdout",
     "output_type": "stream",
     "text": [
      "U.S.A.\n",
      "P.R.China\n",
      "Japan\n",
      "Italy\n",
      "Libya\n"
     ]
    }
   ],
   "source": [
    "# USA,P.R.China,Japan,Italy,Libya; use strings; do not print(U.S.A)\n",
    "country1 = \"the-united-states-of-america\"\n",
    "country2 = \"the People's Republic of China\"\n",
    "country3 = \"jAPAN\"\n",
    "country4 = \"Italian Republic\"\n",
    "country5 = \"Great Socialist People's Libyan Arab Jamahiriya\"\n",
    "\n",
    "u=country1[4]\n",
    "u=u.upper()\n",
    "s=country1[11]\n",
    "s=s.upper()\n",
    "a=country1[-7]\n",
    "a=a.upper()\n",
    "\n",
    "p=country2[4]\n",
    "r=country2[13]\n",
    "china=country2[25:]\n",
    "\n",
    "japan=country3[1:]\n",
    "japan=japan.lower()\n",
    "\n",
    "italy=(country4[:4] +country5[28])\n",
    "\n",
    "libya=country5[25:30]\n",
    "\n",
    "print(u+'.'+s+'.'+a+'.')\n",
    "print(p+'.'+r+'.'+china)\n",
    "print(country5[-10]+japan)\n",
    "print(italy)\n",
    "print(libya)\n",
    "\n",
    "\n"
   ]
  },
  {
   "cell_type": "markdown",
   "id": "8d25d110",
   "metadata": {},
   "source": [
    "#### Problem 5: Given a Math Function"
   ]
  },
  {
   "cell_type": "code",
   "execution_count": 38,
   "id": "249864fe",
   "metadata": {},
   "outputs": [
    {
     "name": "stdout",
     "output_type": "stream",
     "text": [
      "When x= 7 and h is small\n",
      "The value of the close-form solution is: 175\n",
      "The value of the numerical solution is: 175.07\n"
     ]
    }
   ],
   "source": [
    "#Use Python statements to prove the 2 equations are approximately equal when x=7 and h is small\n",
    "x=7\n",
    "h=0.003\n",
    "f=x**3+2*x**2+5\n",
    "f_prime=3*x**2+4*x\n",
    "f_prime_numerical=(((x+h)**3+2*(x+h)**2+5)-(f))/h\n",
    "print('When x=',x,'and h is small')\n",
    "print('The value of the close-form solution is:',round(f_prime,2))\n",
    "print('The value of the numerical solution is:',round(f_prime_numerical,2),)"
   ]
  }
 ],
 "metadata": {
  "kernelspec": {
   "display_name": "Python 3",
   "language": "python",
   "name": "python3"
  },
  "language_info": {
   "codemirror_mode": {
    "name": "ipython",
    "version": 3
   },
   "file_extension": ".py",
   "mimetype": "text/x-python",
   "name": "python",
   "nbconvert_exporter": "python",
   "pygments_lexer": "ipython3",
   "version": "3.8.8"
  }
 },
 "nbformat": 4,
 "nbformat_minor": 5
}
