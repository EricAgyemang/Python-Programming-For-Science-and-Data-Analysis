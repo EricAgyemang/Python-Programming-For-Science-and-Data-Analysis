{
 "cells": [
  {
   "cell_type": "markdown",
   "id": "94591c65",
   "metadata": {},
   "source": [
    "### Assignment 2\n"
   ]
  },
  {
   "cell_type": "markdown",
   "id": "4cf6934c",
   "metadata": {},
   "source": [
    "#### Problem 1"
   ]
  },
  {
   "cell_type": "code",
   "execution_count": 9,
   "id": "a29611e2",
   "metadata": {},
   "outputs": [
    {
     "name": "stdout",
     "output_type": "stream",
     "text": [
      "The Length of the list is: 999\n",
      "The Mean is: 18.93993993993994\n",
      "The Median is: 12\n",
      "The lowest number is: -996\n",
      "The highest number is: 1000\n"
     ]
    }
   ],
   "source": [
    "#List of random integers\n",
    "import random\n",
    "cardinality=999\n",
    "ran_list=[random.randint(-1000,1000) for xi in range(cardinality)]\n",
    "length_ran_list=len(ran_list)\n",
    "print('The Length of the list is:',length_ran_list)\n",
    "#print('The list is;',sorted(ran_list))\n",
    "\n",
    "#Mean\n",
    "n=0\n",
    "sigma=0\n",
    "for xi in ran_list:\n",
    "    sigma=sigma+xi\n",
    "    n=n+1\n",
    "x_bar=sigma/n\n",
    "print('The Mean is:',x_bar)\n",
    "\n",
    "#Another option\n",
    "#import statistics as st\n",
    "#print('The mean is:',st.mean(ran_list))\n",
    "\n",
    "#Median\n",
    "sort_ran_list=sorted(ran_list)\n",
    "median=cardinality/2+0.5\n",
    "median=int(median)\n",
    "print('The Median is:',sort_ran_list[median])\n",
    "\n",
    "#Minimun\n",
    "print('The lowest number is:',sort_ran_list[0])\n",
    "\n",
    "#Maximum\n",
    "print('The highest number is:',sort_ran_list[-1])"
   ]
  },
  {
   "cell_type": "markdown",
   "id": "4d707914",
   "metadata": {},
   "source": [
    "#### Problem 2"
   ]
  },
  {
   "cell_type": "code",
   "execution_count": 10,
   "id": "56f6504e",
   "metadata": {},
   "outputs": [
    {
     "name": "stdout",
     "output_type": "stream",
     "text": [
      "The numbers in x: [72, 99, 40, 76]\n",
      "The numbers in y: [29, 40, 6, 12]\n",
      "The Manhattan distance is: 200\n",
      "The Euclidean distance is: 102.86884854026509\n"
     ]
    }
   ],
   "source": [
    "# Manhattan and #Euclidean Distances between two vectors\n",
    "import random, math as m\n",
    "n=4\n",
    "x=[random.randint(0,100) for xi in range(n)]\n",
    "y=[random.randint(0,100) for yi in range(n)]\n",
    "print('The numbers in x:',x)\n",
    "print('The numbers in y:',y)\n",
    "\n",
    "#Manhattan\n",
    "sigma=0\n",
    "for i in range(0,n):\n",
    "        sigma=sigma+abs(x[i]-y[i])\n",
    "print('The Manhattan distance is:',sigma)\n",
    "\n",
    "#Euclidean\n",
    "sigma_euc=0\n",
    "for i in range(0,n):\n",
    "    sigma_euc=sigma_euc+(x[i]-y[i])**2\n",
    "result=m.sqrt(sigma_euc)\n",
    "print('The Euclidean distance is:',result)"
   ]
  },
  {
   "cell_type": "markdown",
   "id": "a73799fc",
   "metadata": {},
   "source": [
    "#### Problem 3"
   ]
  },
  {
   "cell_type": "code",
   "execution_count": 11,
   "id": "ea37ab6a",
   "metadata": {},
   "outputs": [
    {
     "name": "stdout",
     "output_type": "stream",
     "text": [
      "The sorted list is: [6, 6, 6, 6, 6, 6, 6, 6, 6, 6, 6, 12, 12, 12, 12, 12, 12, 44, 44, 44, 44, 44, 44, 44, 44, 44, 44, 44, 44, 44, 44, 44, 71, 71, 71, 71, 71, 71, 71, 71, 71, 121, 144, 144, 144, 144, 144, 345, 345, 706]\n"
     ]
    }
   ],
   "source": [
    "#Implement the insertion-sort algorithm\n",
    "import random\n",
    "\n",
    "n=50\n",
    "A = [random.randint(0,1000) for i in range(n)]\n",
    "for i in range(1,n):\n",
    "    j=i-1\n",
    "    key=A[i]\n",
    "    while j>=0 and A[j]>key:\n",
    "        A[j]=A[j+1]\n",
    "        j=j-1\n",
    "        key=A[j+1]\n",
    "print('The sorted list is:',A)"
   ]
  },
  {
   "cell_type": "markdown",
   "id": "26b0357e",
   "metadata": {},
   "source": [
    "#### Problem 4"
   ]
  },
  {
   "cell_type": "code",
   "execution_count": 12,
   "id": "13a02404",
   "metadata": {},
   "outputs": [
    {
     "name": "stdout",
     "output_type": "stream",
     "text": [
      "{'deep': 4, 'learning': 5, 'also': 1, 'known': 1, 'as': 1, 'structured': 1, 'hierarchical': 1, 'or': 1, 'machine': 2, 'is': 1, 'a': 5, 'branch': 1, 'of': 7, 'based': 1, 'on': 2, 'set': 1, 'algorithms': 1, 'that': 4, 'attempt': 1, 'to': 4, 'model': 1, 'high': 1, 'level': 1, 'abstractions': 1, 'in': 3, 'data': 1, 'simple': 1, 'case': 1, 'there': 2, 'might': 1, 'be': 1, 'two': 1, 'sets': 1, 'neurons': 2, 'ones': 2, 'receive': 1, 'an': 3, 'input': 5, 'signal': 2, 'and': 4, 'send': 1, 'output': 2, 'when': 1, 'the': 6, 'layer': 2, 'receives': 1, 'it': 3, 'passes': 1, 'modified': 1, 'version': 1, 'next': 1, 'network': 1, 'are': 2, 'many': 1, 'layers': 3, 'between': 1, 'not': 1, 'made': 1, 'but': 1, 'can': 1, 'help': 1, 'think': 1, 'way': 1, 'allowing': 1, 'algorithm': 1, 'use': 1, 'multiple': 2, 'processing': 1, 'composed': 1, 'linear': 1, 'non-linear': 1, 'transformations': 1}\n"
     ]
    }
   ],
   "source": [
    "#Write Python statements that create a dictionary of word counts.\n",
    "s = '''\n",
    "Deep learning also known as deep structured learning hierarchical learning or deep machine learning is a branch of machine learning \n",
    "based on a set of algorithms that attempt to model high level abstractions in data In a simple case there might be two sets of neurons \n",
    "ones that receive an input signal and ones that send an output signal When the input layer receives an input it passes on a modified \n",
    "version of the input to the next layer In a deep network there are many layers between the input and output and the layers are not made \n",
    "of neurons but it can help to think of it that way allowing the algorithm to use multiple processing layers composed of multiple linear \n",
    "and non-linear transformations\n",
    "'''\n",
    "s=s.lower()\n",
    "#Split: creates a list with separated words\n",
    "s_list=s.split()\n",
    "#Create a dictionary\n",
    "my_dict=dict()\n",
    "for word in s_list:\n",
    "    my_dict[word]=my_dict.get(word,0)+1\n",
    "print(my_dict)"
   ]
  }
 ],
 "metadata": {
  "kernelspec": {
   "display_name": "Python 3",
   "language": "python",
   "name": "python3"
  },
  "language_info": {
   "codemirror_mode": {
    "name": "ipython",
    "version": 3
   },
   "file_extension": ".py",
   "mimetype": "text/x-python",
   "name": "python",
   "nbconvert_exporter": "python",
   "pygments_lexer": "ipython3",
   "version": "3.8.8"
  }
 },
 "nbformat": 4,
 "nbformat_minor": 5
}
