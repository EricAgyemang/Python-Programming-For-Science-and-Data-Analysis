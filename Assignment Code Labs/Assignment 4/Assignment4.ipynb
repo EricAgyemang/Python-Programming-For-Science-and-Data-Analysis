{
 "cells": [
  {
   "cell_type": "markdown",
   "id": "bc8255f5",
   "metadata": {},
   "source": [
    "### Assignment 4: Numpy and Pandas\n",
    "#### Cesiley Barnes\n",
    "#### Due;10/19/21 at 11:55pm"
   ]
  },
  {
   "cell_type": "code",
   "execution_count": 2,
   "id": "5401f8ca",
   "metadata": {},
   "outputs": [
    {
     "name": "stdout",
     "output_type": "stream",
     "text": [
      "The first five columns of the data are\n",
      "                     Address  Case Number Crime Against     Neighborhood  \\\n",
      "0                       NaN  17-X4762181        Person              NaN   \n",
      "1                       NaN  17-X4757824      Property       Centennial   \n",
      "2  200 BLOCK OF SE 78TH AVE    17-900367      Property       Montavilla   \n",
      "3                       NaN  17-X4748982      Property  Southwest Hills   \n",
      "4                       NaN  17-X4748982      Property  Southwest Hills   \n",
      "\n",
      "   Number of Records Occur Date Occur Month Year  Occur Time  \\\n",
      "0                  1     1/1/96           1/1/96         800   \n",
      "1                  1    1/20/00           1/1/00        1615   \n",
      "2                  1    12/1/03          12/1/03         800   \n",
      "3                  1     1/1/10           1/1/10           0   \n",
      "4                  1     1/1/10           1/1/10           0   \n",
      "\n",
      "   Offense Category  Offense Count                             Offense Type  \\\n",
      "0      Sex Offenses              1                                     Rape   \n",
      "1    Fraud Offenses              1                           Identity Theft   \n",
      "2    Fraud Offenses              1  False Pretenses/Swindle/Confidence Game   \n",
      "3    Fraud Offenses              1                           Identity Theft   \n",
      "4  Larceny Offenses              1                        All Other Larceny   \n",
      "\n",
      "   Open Data Lat  Open Data Lon  Open Data X  Open Data Y Report Date  \\\n",
      "0            NaN            NaN          NaN          NaN     1/26/17   \n",
      "1            NaN            NaN          NaN          NaN     1/20/17   \n",
      "2        45.5207       -122.583    7668150.0     682825.0      1/9/17   \n",
      "3            NaN            NaN          NaN          NaN      1/5/17   \n",
      "4            NaN            NaN          NaN          NaN      1/5/17   \n",
      "\n",
      "  Report Month Year  \n",
      "0            1/1/17  \n",
      "1            1/1/17  \n",
      "2            1/1/17  \n",
      "3            1/1/17  \n",
      "4            1/1/17  \n"
     ]
    }
   ],
   "source": [
    "import pandas as pd\n",
    "import numpy as np\n",
    "from pandas import Series, DataFrame\n",
    "#step 1\n",
    "df=pd.read_csv('crime_incident_data2017.csv')\n",
    "#step 2a\n",
    "print('The first five columns of the data are\\n',df.head())"
   ]
  },
  {
   "cell_type": "code",
   "execution_count": 3,
   "id": "54ff9ec6",
   "metadata": {},
   "outputs": [
    {
     "name": "stdout",
     "output_type": "stream",
     "text": [
      "The last five columns of the data are\n",
      "                             Address Case Number Crime Against   Neighborhood  \\\n",
      "41027   8800 BLOCK OF NE SANDY BLVD   17-285386       Society         Sumner   \n",
      "41028     9700 BLOCK OF SE STARK ST   17-286082       Society      Hazelwood   \n",
      "41029     9700 BLOCK OF SE STARK ST   17-286413       Society      Hazelwood   \n",
      "41030               UNKNOWN ADDRESS   17-286445       Society            NaN   \n",
      "41031  8000 BLOCK OF SE POWELL BLVD   17-286659       Society  Foster-Powell   \n",
      "\n",
      "       Number of Records Occur Date Occur Month Year  Occur Time  \\\n",
      "41027                  1    8/31/17           8/1/17         535   \n",
      "41028                  1    8/31/17           8/1/17        1619   \n",
      "41029                  1    8/31/17           8/1/17        1959   \n",
      "41030                  1    8/31/17           8/1/17        2021   \n",
      "41031                  1    8/31/17           8/1/17        2354   \n",
      "\n",
      "             Offense Category  Offense Count              Offense Type  \\\n",
      "41027  Drug/Narcotic Offenses              1  Drug/Narcotic Violations   \n",
      "41028   Prostitution Offenses              1              Prostitution   \n",
      "41029   Prostitution Offenses              1              Prostitution   \n",
      "41030   Prostitution Offenses              1              Prostitution   \n",
      "41031   Weapon Law Violations              1    Weapons Law Violations   \n",
      "\n",
      "       Open Data Lat  Open Data Lon  Open Data X  Open Data Y Report Date  \\\n",
      "41027        45.5554       -122.571    7671560.0     695399.0     8/31/17   \n",
      "41028        45.5191       -122.563    7673292.0     682101.0     8/31/17   \n",
      "41029        45.5191       -122.563    7673292.0     682101.0     8/31/17   \n",
      "41030            NaN            NaN          NaN          NaN     8/31/17   \n",
      "41031        45.4974       -122.580    7668725.0     674298.0     8/31/17   \n",
      "\n",
      "      Report Month Year  \n",
      "41027            8/1/17  \n",
      "41028            8/1/17  \n",
      "41029            8/1/17  \n",
      "41030            8/1/17  \n",
      "41031            8/1/17  \n"
     ]
    }
   ],
   "source": [
    "#step 2b\n",
    "print('The last five columns of the data are\\n',df.tail())"
   ]
  },
  {
   "cell_type": "code",
   "execution_count": 4,
   "id": "343733a0",
   "metadata": {},
   "outputs": [
    {
     "name": "stdout",
     "output_type": "stream",
     "text": [
      "The shape of the data before dropping Null values:\n",
      " (41032, 17)\n"
     ]
    }
   ],
   "source": [
    "#step 3\n",
    "print('The shape of the data before dropping Null values:\\n',df.shape)"
   ]
  },
  {
   "cell_type": "code",
   "execution_count": 5,
   "id": "9f4b8cdf",
   "metadata": {},
   "outputs": [
    {
     "name": "stdout",
     "output_type": "stream",
     "text": [
      "The shape of the data after dropping Null values is:\n",
      " (36146, 17)\n"
     ]
    }
   ],
   "source": [
    "#step 4\n",
    "df1=df.copy\n",
    "df1=pd.DataFrame(df.dropna())\n",
    "#step5\n",
    "print('The shape of the data after dropping Null values is:\\n',df1.shape)"
   ]
  },
  {
   "cell_type": "code",
   "execution_count": 6,
   "id": "60089321",
   "metadata": {},
   "outputs": [
    {
     "name": "stdout",
     "output_type": "stream",
     "text": [
      "True=Yes/False=No, does df have any missing values?: False\n"
     ]
    }
   ],
   "source": [
    "#step6 \n",
    "df=pd.DataFrame(df)\n",
    "column0=df['Address'].fillna(method='bfill', inplace=True)\n",
    "column3=df['Neighborhood'].fillna(method='bfill',inplace=True)\n",
    "column11=df['Open Data Lat'].fillna(method='bfill',inplace=True)\n",
    "column12=df['Open Data Lon'].fillna(method='bfill',inplace=True)\n",
    "column13=df['Open Data X'].fillna(method='bfill',inplace=True)\n",
    "column14=df['Open Data Y'].fillna(method='bfill',inplace=True)\n",
    "print('True=Yes/False=No, does df have any missing values?:',df.isnull().values.any())"
   ]
  },
  {
   "cell_type": "markdown",
   "id": "627372be",
   "metadata": {},
   "source": [
    "### Justification for Step 6\n",
    "1.) For the zero,3rd,11th,12th,13th and 14th columns, I used the back fill method because there are enough neighborhoods that are grouped together that it seemed logical, also, because all columns have to do with address, the missing values need to be the same. In all of the columns, the last row of the columns have information and does not require filling.\n",
    "\n",
    "2.) The 1st,2nd,4th,5th,6th,7th,8th,9th,10th,15th and 16th columns have no NaN values using df['Column Name'].isnull().values.any(). Output: False\n",
    "\n"
   ]
  },
  {
   "cell_type": "code",
   "execution_count": 7,
   "id": "6dbdeef0",
   "metadata": {},
   "outputs": [
    {
     "name": "stdout",
     "output_type": "stream",
     "text": [
      "The earliest report date is\n",
      " 1/1/17\n",
      "The latest report date is\n",
      " 8/9/17\n"
     ]
    }
   ],
   "source": [
    "#step7\n",
    "df_earliest=df['Report Date'].min()\n",
    "print('The earliest report date is\\n',\n",
    "      df_earliest)\n",
    "df_latest=df['Report Date'].max()\n",
    "print('The latest report date is\\n',\n",
    "     df_latest)"
   ]
  },
  {
   "cell_type": "code",
   "execution_count": 8,
   "id": "a8843753",
   "metadata": {},
   "outputs": [
    {
     "name": "stdout",
     "output_type": "stream",
     "text": [
      "The best day was\n",
      " 1/11/17\n",
      "The worst day was\n",
      " 5/31/17\n"
     ]
    }
   ],
   "source": [
    "#step8\n",
    "df_value=df['Report Date'].value_counts()\n",
    "print('The best day was\\n',\n",
    "      df_value.index[-1])\n",
    "print('The worst day was\\n',\n",
    "     df_value.index[0])"
   ]
  },
  {
   "cell_type": "code",
   "execution_count": 9,
   "id": "4b0f5600",
   "metadata": {},
   "outputs": [
    {
     "name": "stdout",
     "output_type": "stream",
     "text": [
      "The Number of crimes reported on July 4th, 2017 is: 132\n"
     ]
    }
   ],
   "source": [
    "#step9\n",
    "df1=df[['Report Date','Offense Type','Offense Count']]\n",
    "df2=df1.loc[df1['Report Date'] == '7/4/17']\n",
    "df3=df2['Offense Count'].sum()\n",
    "print('The Number of crimes reported on July 4th, 2017 is:',df3)"
   ]
  },
  {
   "cell_type": "code",
   "execution_count": 10,
   "id": "23e03bb5",
   "metadata": {},
   "outputs": [
    {
     "name": "stdout",
     "output_type": "stream",
     "text": [
      "The Offense Categories are:\n",
      " 0                  Sex Offenses\n",
      "1                Fraud Offenses\n",
      "2                Fraud Offenses\n",
      "3                Fraud Offenses\n",
      "4              Larceny Offenses\n",
      "                  ...          \n",
      "41027    Drug/Narcotic Offenses\n",
      "41028     Prostitution Offenses\n",
      "41029     Prostitution Offenses\n",
      "41030     Prostitution Offenses\n",
      "41031     Weapon Law Violations\n",
      "Name: Offense Category, Length: 41032, dtype: object\n"
     ]
    }
   ],
   "source": [
    "#step10\n",
    "df4=df['Offense Category']\n",
    "print('The Offense Categories are:\\n',\n",
    "      df4)"
   ]
  },
  {
   "cell_type": "code",
   "execution_count": 11,
   "id": "b73f09e6",
   "metadata": {},
   "outputs": [
    {
     "name": "stdout",
     "output_type": "stream",
     "text": [
      "The count of offenses under each category is:\n",
      " Larceny Offenses                16781\n",
      "Assault Offenses                 5348\n",
      "Motor Vehicle Theft              4799\n",
      "Vandalism                        4189\n",
      "Fraud Offenses                   3309\n",
      "Burglary                         2901\n",
      "Drug/Narcotic Offenses           1148\n",
      "Robbery                           680\n",
      "Counterfeiting/Forgery            470\n",
      "Sex Offenses                      436\n",
      "Weapon Law Violations             298\n",
      "Arson                             221\n",
      "Prostitution Offenses             177\n",
      "Embezzlement                       78\n",
      "Stolen Property Offenses           59\n",
      "Kidnapping/Abduction               56\n",
      "Sex Offenses, Nonforcible          19\n",
      "Animal Cruelty Offenses            19\n",
      "Homicide Offenses                  14\n",
      "Extortion/Blackmail                13\n",
      "Pornography/Obscene Material       11\n",
      "Human Trafficking Offenses          6\n",
      "Name: Offense Category, dtype: int64\n"
     ]
    }
   ],
   "source": [
    "#step11\n",
    "df5=df4.value_counts()\n",
    "print('The count of offenses under each category is:\\n',\n",
    "      df5)"
   ]
  },
  {
   "cell_type": "code",
   "execution_count": 15,
   "id": "8b3a92a8",
   "metadata": {},
   "outputs": [
    {
     "data": {
      "text/html": [
       "<div>\n",
       "<style scoped>\n",
       "    .dataframe tbody tr th:only-of-type {\n",
       "        vertical-align: middle;\n",
       "    }\n",
       "\n",
       "    .dataframe tbody tr th {\n",
       "        vertical-align: top;\n",
       "    }\n",
       "\n",
       "    .dataframe thead th {\n",
       "        text-align: right;\n",
       "    }\n",
       "</style>\n",
       "<table border=\"1\" class=\"dataframe\">\n",
       "  <thead>\n",
       "    <tr style=\"text-align: right;\">\n",
       "      <th></th>\n",
       "      <th>Address</th>\n",
       "      <th>Case Number</th>\n",
       "      <th>Crime Against</th>\n",
       "      <th>Neighborhood</th>\n",
       "      <th>Number of Records</th>\n",
       "      <th>Occur Date</th>\n",
       "      <th>Occur Month Year</th>\n",
       "      <th>Occur Time</th>\n",
       "      <th>Offense Category</th>\n",
       "      <th>Offense Count</th>\n",
       "      <th>Open Data Lat</th>\n",
       "      <th>Open Data Lon</th>\n",
       "      <th>Open Data X</th>\n",
       "      <th>Open Data Y</th>\n",
       "      <th>Report Date</th>\n",
       "      <th>Report Month Year</th>\n",
       "    </tr>\n",
       "  </thead>\n",
       "  <tbody>\n",
       "    <tr>\n",
       "      <th>0</th>\n",
       "      <td>200 BLOCK OF SE 78TH AVE</td>\n",
       "      <td>17-X4762181</td>\n",
       "      <td>Person</td>\n",
       "      <td>Centennial</td>\n",
       "      <td>1</td>\n",
       "      <td>1/1/96</td>\n",
       "      <td>1/1/96</td>\n",
       "      <td>800</td>\n",
       "      <td>Sex Offenses</td>\n",
       "      <td>1</td>\n",
       "      <td>45.5207</td>\n",
       "      <td>-122.583</td>\n",
       "      <td>7668150.0</td>\n",
       "      <td>682825.0</td>\n",
       "      <td>1/26/17</td>\n",
       "      <td>1/1/17</td>\n",
       "    </tr>\n",
       "    <tr>\n",
       "      <th>1</th>\n",
       "      <td>200 BLOCK OF SE 78TH AVE</td>\n",
       "      <td>17-X4757824</td>\n",
       "      <td>Property</td>\n",
       "      <td>Centennial</td>\n",
       "      <td>1</td>\n",
       "      <td>1/20/00</td>\n",
       "      <td>1/1/00</td>\n",
       "      <td>1615</td>\n",
       "      <td>Fraud Offenses</td>\n",
       "      <td>1</td>\n",
       "      <td>45.5207</td>\n",
       "      <td>-122.583</td>\n",
       "      <td>7668150.0</td>\n",
       "      <td>682825.0</td>\n",
       "      <td>1/20/17</td>\n",
       "      <td>1/1/17</td>\n",
       "    </tr>\n",
       "    <tr>\n",
       "      <th>2</th>\n",
       "      <td>200 BLOCK OF SE 78TH AVE</td>\n",
       "      <td>17-900367</td>\n",
       "      <td>Property</td>\n",
       "      <td>Montavilla</td>\n",
       "      <td>1</td>\n",
       "      <td>12/1/03</td>\n",
       "      <td>12/1/03</td>\n",
       "      <td>800</td>\n",
       "      <td>Fraud Offenses</td>\n",
       "      <td>1</td>\n",
       "      <td>45.5207</td>\n",
       "      <td>-122.583</td>\n",
       "      <td>7668150.0</td>\n",
       "      <td>682825.0</td>\n",
       "      <td>1/9/17</td>\n",
       "      <td>1/1/17</td>\n",
       "    </tr>\n",
       "    <tr>\n",
       "      <th>3</th>\n",
       "      <td>5400 BLOCK OF NE MALLORY AVE</td>\n",
       "      <td>17-X4748982</td>\n",
       "      <td>Property</td>\n",
       "      <td>Southwest Hills</td>\n",
       "      <td>1</td>\n",
       "      <td>1/1/10</td>\n",
       "      <td>1/1/10</td>\n",
       "      <td>0</td>\n",
       "      <td>Fraud Offenses</td>\n",
       "      <td>1</td>\n",
       "      <td>45.5625</td>\n",
       "      <td>-122.664</td>\n",
       "      <td>7647987.0</td>\n",
       "      <td>698581.0</td>\n",
       "      <td>1/5/17</td>\n",
       "      <td>1/1/17</td>\n",
       "    </tr>\n",
       "    <tr>\n",
       "      <th>4</th>\n",
       "      <td>5400 BLOCK OF NE MALLORY AVE</td>\n",
       "      <td>17-X4748982</td>\n",
       "      <td>Property</td>\n",
       "      <td>Southwest Hills</td>\n",
       "      <td>1</td>\n",
       "      <td>1/1/10</td>\n",
       "      <td>1/1/10</td>\n",
       "      <td>0</td>\n",
       "      <td>Larceny Offenses</td>\n",
       "      <td>1</td>\n",
       "      <td>45.5625</td>\n",
       "      <td>-122.664</td>\n",
       "      <td>7647987.0</td>\n",
       "      <td>698581.0</td>\n",
       "      <td>1/5/17</td>\n",
       "      <td>1/1/17</td>\n",
       "    </tr>\n",
       "  </tbody>\n",
       "</table>\n",
       "</div>"
      ],
      "text/plain": [
       "                        Address  Case Number Crime Against     Neighborhood  \\\n",
       "0      200 BLOCK OF SE 78TH AVE  17-X4762181        Person       Centennial   \n",
       "1      200 BLOCK OF SE 78TH AVE  17-X4757824      Property       Centennial   \n",
       "2      200 BLOCK OF SE 78TH AVE    17-900367      Property       Montavilla   \n",
       "3  5400 BLOCK OF NE MALLORY AVE  17-X4748982      Property  Southwest Hills   \n",
       "4  5400 BLOCK OF NE MALLORY AVE  17-X4748982      Property  Southwest Hills   \n",
       "\n",
       "   Number of Records Occur Date Occur Month Year  Occur Time  \\\n",
       "0                  1     1/1/96           1/1/96         800   \n",
       "1                  1    1/20/00           1/1/00        1615   \n",
       "2                  1    12/1/03          12/1/03         800   \n",
       "3                  1     1/1/10           1/1/10           0   \n",
       "4                  1     1/1/10           1/1/10           0   \n",
       "\n",
       "   Offense Category  Offense Count  Open Data Lat  Open Data Lon  Open Data X  \\\n",
       "0      Sex Offenses              1        45.5207       -122.583    7668150.0   \n",
       "1    Fraud Offenses              1        45.5207       -122.583    7668150.0   \n",
       "2    Fraud Offenses              1        45.5207       -122.583    7668150.0   \n",
       "3    Fraud Offenses              1        45.5625       -122.664    7647987.0   \n",
       "4  Larceny Offenses              1        45.5625       -122.664    7647987.0   \n",
       "\n",
       "   Open Data Y Report Date Report Month Year  \n",
       "0     682825.0     1/26/17            1/1/17  \n",
       "1     682825.0     1/20/17            1/1/17  \n",
       "2     682825.0      1/9/17            1/1/17  \n",
       "3     698581.0      1/5/17            1/1/17  \n",
       "4     698581.0      1/5/17            1/1/17  "
      ]
     },
     "execution_count": 15,
     "metadata": {},
     "output_type": "execute_result"
    }
   ],
   "source": [
    "#step12\n",
    "df6=df.drop(['Offense Type'], axis=1)\n",
    "df6.head()"
   ]
  }
 ],
 "metadata": {
  "kernelspec": {
   "display_name": "Python 3",
   "language": "python",
   "name": "python3"
  },
  "language_info": {
   "codemirror_mode": {
    "name": "ipython",
    "version": 3
   },
   "file_extension": ".py",
   "mimetype": "text/x-python",
   "name": "python",
   "nbconvert_exporter": "python",
   "pygments_lexer": "ipython3",
   "version": "3.8.8"
  }
 },
 "nbformat": 4,
 "nbformat_minor": 5
}
