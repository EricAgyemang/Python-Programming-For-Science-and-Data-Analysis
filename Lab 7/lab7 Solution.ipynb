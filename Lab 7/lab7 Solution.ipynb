{
 "cells": [
  {
   "cell_type": "code",
   "execution_count": 1,
   "metadata": {},
   "outputs": [],
   "source": [
    "#Problem 1\n",
    "#Use a Python loop to compute:\n",
    "#   1+2-3+4-5+⋯-99+100\n",
    "#\n",
    "#Your solution goes below:"
   ]
  },
  {
   "cell_type": "code",
   "execution_count": null,
   "metadata": {},
   "outputs": [],
   "source": [
    "#Problem 2\n",
    "\n",
    "import random\n",
    "List = [random.randint(0,100) for _ i in range(100)]\n",
    "\n",
    "def difference(List):\n",
    "    #Your solution goes below:"
   ]
  },
  {
   "cell_type": "code",
   "execution_count": 5,
   "metadata": {},
   "outputs": [],
   "source": [
    "#Problem 3\n",
    "#Your solution goes below:"
   ]
  },
  {
   "cell_type": "code",
   "execution_count": null,
   "metadata": {},
   "outputs": [],
   "source": [
    "#Problem 4\n",
    "infor = {'Alice':20,'Bob':25,'Caro':40,'David':32,'Evan':60,'Frank':38,'Greg':45,'Hason':12,'Izzy':33,'Jason':17,'Kyle':23}\n",
    "#Your solution goes below:"
   ]
  }
 ],
 "metadata": {
  "kernelspec": {
   "display_name": "Python 3",
   "language": "python",
   "name": "python3"
  },
  "language_info": {
   "codemirror_mode": {
    "name": "ipython",
    "version": 3
   },
   "file_extension": ".py",
   "mimetype": "text/x-python",
   "name": "python",
   "nbconvert_exporter": "python",
   "pygments_lexer": "ipython3",
   "version": "3.6.4"
  }
 },
 "nbformat": 4,
 "nbformat_minor": 2
}
