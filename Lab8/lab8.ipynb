{
 "cells": [
  {
   "cell_type": "code",
   "execution_count": 3,
   "metadata": {},
   "outputs": [
    {
     "name": "stdout",
     "output_type": "stream",
     "text": [
      "The maximum is: 2.53\n",
      "The minimum is: -3.73\n",
      "The sum is: 0.85\n",
      "The mean is: 0.02\n",
      "The number of negative values is: 24\n"
     ]
    }
   ],
   "source": [
    "import numpy as np\n",
    "size = 50\n",
    "A = np.random.randn(size)\n",
    "B = np.random.randn(size)\n",
    "C = A + B\n",
    "print(\"The maximum is: %.2f\" % C.max())\n",
    "print(\"The minimum is: %.2f\" % C.min())\n",
    "print(\"The sum is: %.2f\" % C.sum())\n",
    "print(\"The mean is: %.2f\" % C.mean())\n",
    "print(\"The number of negative values is:\",np.where(C < 0, 1, 0).sum())"
   ]
  },
  {
   "cell_type": "code",
   "execution_count": 8,
   "metadata": {},
   "outputs": [
    {
     "name": "stdout",
     "output_type": "stream",
     "text": [
      "The original matrix:\n",
      "[[-0.51373126  0.46485833  1.06457611  0.43061197]\n",
      " [ 0.51865803  0.49556617 -0.31360386 -1.82972146]\n",
      " [-1.37862047 -2.64920942 -1.06687806  1.7668747 ]\n",
      " [ 0.00599944  1.26478725  1.14934367  0.24129907]\n",
      " [ 1.56476518  1.11108426 -0.48779628  0.15126816]]\n",
      "The maximum values for each row: [1.06457611 0.51865803 1.7668747  1.26478725 1.56476518]\n",
      "The maximum values for each column: [1.56476518 1.26478725 1.14934367 1.7668747 ]\n",
      "The minimum values for each row: [-0.51373126 -1.82972146 -2.64920942  0.00599944 -0.48779628]\n",
      "The minimum values for each column: [-1.37862047 -2.64920942 -1.06687806 -1.82972146]\n",
      "The sub-matrix:\n",
      "[[-2.64920942 -1.06687806  1.7668747 ]\n",
      " [ 1.26478725  1.14934367  0.24129907]\n",
      " [ 1.11108426 -0.48779628  0.15126816]]\n"
     ]
    }
   ],
   "source": [
    "A = np.random.randn(5,4)\n",
    "print(\"The original matrix:\")\n",
    "print(A)\n",
    "print(\"The maximum values for each row:\",A.max(axis=1))\n",
    "print(\"The maximum values for each column:\",A.max(axis=0))\n",
    "print(\"The minimum values for each row:\",A.min(axis=1))\n",
    "print(\"The minimum values for each column:\",A.min(axis=0))\n",
    "print(\"The sub-matrix:\")\n",
    "print(A[2:,1:])"
   ]
  },
  {
   "cell_type": "code",
   "execution_count": 10,
   "metadata": {},
   "outputs": [
    {
     "name": "stdout",
     "output_type": "stream",
     "text": [
      "The sum of all the positive values is 46.52\n",
      "The sum of all the negative values is -37.17\n"
     ]
    }
   ],
   "source": [
    "A = np.random.randn(10,10)\n",
    "print(\"The sum of all the positive values is %.2f\" %(A * (A>0)).sum())\n",
    "print(\"The sum of all the negative values is %.2f\" % (A * (A<0)).sum())"
   ]
  },
  {
   "cell_type": "code",
   "execution_count": null,
   "metadata": {},
   "outputs": [],
   "source": []
  }
 ],
 "metadata": {
  "kernelspec": {
   "display_name": "Python 3",
   "language": "python",
   "name": "python3"
  },
  "language_info": {
   "codemirror_mode": {
    "name": "ipython",
    "version": 3
   },
   "file_extension": ".py",
   "mimetype": "text/x-python",
   "name": "python",
   "nbconvert_exporter": "python",
   "pygments_lexer": "ipython3",
   "version": "3.6.4"
  }
 },
 "nbformat": 4,
 "nbformat_minor": 2
}
